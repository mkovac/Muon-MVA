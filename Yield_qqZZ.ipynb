{
 "cells": [
  {
   "cell_type": "code",
   "execution_count": 1,
   "metadata": {},
   "outputs": [],
   "source": [
    "import uproot\n",
    "import pandas\n",
    "import numpy as np\n",
    "from sklearn import metrics\n",
    "import matplotlib.pyplot as plt\n",
    "plt.rcParams.update({'font.size': 24})"
   ]
  },
  {
   "cell_type": "code",
   "execution_count": 2,
   "metadata": {},
   "outputs": [],
   "source": [
    "root_file = '/eos/user/t/tsculac/BigStuff/LegacyProduction_1/MuonWPOptimization/ZZTo4l/ZZ4lAnalysis.root'\n",
    "\n",
    "tree = uproot.open(root_file)[\"ZZTree/candTree\"]"
   ]
  },
  {
   "cell_type": "code",
   "execution_count": 3,
   "metadata": {},
   "outputs": [],
   "source": [
    "df = tree.pandas.df(entrystop=None, flatten=False)"
   ]
  },
  {
   "cell_type": "code",
   "execution_count": 4,
   "metadata": {},
   "outputs": [],
   "source": [
    "hCounters = uproot.open(root_file)[\"ZZTree/Counters\"]\n",
    "\n",
    "gen_sum_weights = hCounters[40]"
   ]
  },
  {
   "cell_type": "code",
   "execution_count": 5,
   "metadata": {},
   "outputs": [],
   "source": [
    "df = df.query('ZZsel >= 90')\n",
    "\n",
    "num_of_leptons = df['LepEta'].apply(lambda x: len(x))\n",
    "df['num_of_leptons'] = num_of_leptons\n",
    "\n",
    "df = df.query('num_of_leptons == 4')\n",
    "df = df.query('ZZMass >= 118 and ZZMass <= 130')"
   ]
  },
  {
   "cell_type": "markdown",
   "metadata": {},
   "source": [
    "## 4mu only"
   ]
  },
  {
   "cell_type": "code",
   "execution_count": 6,
   "metadata": {},
   "outputs": [],
   "source": [
    "df = df.query('Z1Flav == -169 and Z2Flav == -169')\n",
    "\n",
    "isBDT_75_95 = []\n",
    "isBDT_80_96 = []\n",
    "isBDT_85_97 = []\n",
    "isBDT_90_98 = []\n",
    "isBDT_95_99 = []\n",
    "\n",
    "\n",
    "for i in df.index:\n",
    "    temp_75_95 = (np.select(condlist=[df['LepPt'][i] <= 10, df['LepPt'][i] > 10],\n",
    "                            choicelist=[df['LepBDT'][i] > 2.069, df['LepBDT'][i] > 1.406]))\n",
    "    isBDT_75_95_temp = temp_75_95.all()\n",
    "    isBDT_75_95.append(isBDT_75_95_temp)\n",
    "    \n",
    "    \n",
    "    temp_80_96 = (np.select(condlist=[df['LepPt'][i] <= 10, df['LepPt'][i] > 10],\n",
    "                            choicelist=[df['LepBDT'][i] > 1.768, df['LepBDT'][i] > 1.031]))\n",
    "    isBDT_80_96_temp = temp_80_96.all()\n",
    "    isBDT_80_96.append(isBDT_80_96_temp)\n",
    "    \n",
    "    \n",
    "    temp_85_97 = (np.select(condlist=[df['LepPt'][i] <= 10, df['LepPt'][i] > 10],\n",
    "                            choicelist=[df['LepBDT'][i] > 1.395, df['LepBDT'][i] > 0.535]))\n",
    "    isBDT_85_97_temp = temp_85_97.all()\n",
    "    isBDT_85_97.append(isBDT_85_97_temp)\n",
    "    \n",
    "    \n",
    "    temp_90_98 = (np.select(condlist=[df['LepPt'][i] <= 10, df['LepPt'][i] > 10],\n",
    "                            choicelist=[df['LepBDT'][i] > 0.885, df['LepBDT'][i] > -0.194]))\n",
    "    isBDT_90_98_temp = temp_90_98.all()\n",
    "    isBDT_90_98.append(isBDT_90_98_temp)\n",
    "    \n",
    "    \n",
    "    temp_95_99 = (np.select(condlist=[df['LepPt'][i] <= 10, df['LepPt'][i] > 10],\n",
    "                            choicelist=[df['LepBDT'][i] > -0.033, df['LepBDT'][i] > -1.459]))\n",
    "    isBDT_95_99_temp = temp_95_99.all()\n",
    "    isBDT_95_99.append(isBDT_95_99_temp)\n",
    "    \n",
    "\n",
    "df['isBDT_75_95'] = isBDT_75_95\n",
    "df['isBDT_80_96'] = isBDT_80_96\n",
    "df['isBDT_85_97'] = isBDT_85_97\n",
    "df['isBDT_90_98'] = isBDT_90_98\n",
    "df['isBDT_95_99'] = isBDT_95_99\n",
    "\n",
    "df_75_95 = df.query('isBDT_75_95 == True')\n",
    "df_80_96 = df.query('isBDT_80_96 == True')\n",
    "df_85_97 = df.query('isBDT_85_97 == True')\n",
    "df_90_98 = df.query('isBDT_90_98 == True')\n",
    "df_95_99 = df.query('isBDT_95_99 == True')"
   ]
  },
  {
   "cell_type": "code",
   "execution_count": 7,
   "metadata": {},
   "outputs": [],
   "source": [
    "k_factor = df['KFactor_EW_qqZZ']*df['KFactor_QCD_qqZZ_M']\n",
    "event_weight = (35.9*1000*df['xsec']*k_factor*df['overallEventWeight'])/gen_sum_weights\n",
    "\n",
    "k_factor = df_75_95['KFactor_EW_qqZZ']*df_75_95['KFactor_QCD_qqZZ_M']\n",
    "event_weight_75_95 = (35.9*1000*df_75_95['xsec']*k_factor*df_75_95['overallEventWeight'])/gen_sum_weights\n",
    "\n",
    "k_factor = df_80_96['KFactor_EW_qqZZ']*df_80_96['KFactor_QCD_qqZZ_M']\n",
    "event_weight_80_96 = (35.9*1000*df_80_96['xsec']*k_factor*df_80_96['overallEventWeight'])/gen_sum_weights\n",
    "\n",
    "k_factor = df_85_97['KFactor_EW_qqZZ']*df_85_97['KFactor_QCD_qqZZ_M']\n",
    "event_weight_85_97 = (35.9*1000*df_85_97['xsec']*k_factor*df_85_97['overallEventWeight'])/gen_sum_weights\n",
    "\n",
    "k_factor = df_90_98['KFactor_EW_qqZZ']*df_90_98['KFactor_QCD_qqZZ_M']\n",
    "event_weight_90_98 = (35.9*1000*df_90_98['xsec']*k_factor*df_90_98['overallEventWeight'])/gen_sum_weights\n",
    "\n",
    "k_factor = df_95_99['KFactor_EW_qqZZ']*df_95_99['KFactor_QCD_qqZZ_M']\n",
    "event_weight_95_99 = (35.9*1000*df_95_99['xsec']*k_factor*df_95_99['overallEventWeight'])/gen_sum_weights"
   ]
  },
  {
   "cell_type": "code",
   "execution_count": 8,
   "metadata": {},
   "outputs": [
    {
     "data": {
      "text/plain": [
       "<matplotlib.legend.Legend at 0x7f16188abd50>"
      ]
     },
     "execution_count": 8,
     "metadata": {},
     "output_type": "execute_result"
    },
    {
     "data": {
      "image/png": "[encoded data removed]",
      "text/plain": [
       "<Figure size 1080x720 with 1 Axes>"
      ]
     },
     "metadata": {},
     "output_type": "display_data"
    }
   ],
   "source": [
    "plt.figure(figsize = (15,10))\n",
    "# plt.yscale('log')\n",
    "values, bins, _       = plt.hist(df['ZZMass'], bins=50, histtype='step', linewidth=2, weights=event_weight, range=[70,170], label='qqZZ')\n",
    "values_75_95, bins, _ = plt.hist(df_75_95['ZZMass'], bins=50, histtype='step', linewidth=2, weights=event_weight_75_95, range=[70,170], label='qqZZ')\n",
    "values_80_96, bins, _ = plt.hist(df_80_96['ZZMass'], bins=50, histtype='step', linewidth=2, weights=event_weight_80_96, range=[70,170], label='qqZZ')\n",
    "values_85_97, bins, _ = plt.hist(df_85_97['ZZMass'], bins=50, histtype='step', linewidth=2, weights=event_weight_85_97, range=[70,170], label='qqZZ')\n",
    "values_90_98, bins, _ = plt.hist(df_90_98['ZZMass'], bins=50, histtype='step', linewidth=2, weights=event_weight_90_98, range=[70,170], label='qqZZ')\n",
    "values_95_99, bins, _ = plt.hist(df_95_99['ZZMass'], bins=50, histtype='step', linewidth=2, weights=event_weight_95_99, range=[70,170], label='qqZZ')\n",
    "\n",
    "plt.title('')\n",
    "plt.ylabel('# of entries')\n",
    "plt.xlabel('M(4mu)')\n",
    "plt.legend()\n",
    "# values"
   ]
  },
  {
   "cell_type": "code",
   "execution_count": 9,
   "metadata": {},
   "outputs": [
    {
     "name": "stdout",
     "output_type": "stream",
     "text": [
      "11.286847114562988\n",
      "8.319790720939636\n",
      "8.995099902153015\n",
      "9.47780692577362\n",
      "10.049499034881592\n",
      "10.837172746658325\n"
     ]
    }
   ],
   "source": [
    "yield_99_99 = sum(values)\n",
    "print yield_99_99\n",
    "\n",
    "yield_75_95 = sum(values_75_95)\n",
    "print yield_75_95\n",
    "\n",
    "yield_80_96 = sum(values_80_96)\n",
    "print yield_80_96\n",
    "\n",
    "yield_85_97 = sum(values_85_97)\n",
    "print yield_85_97\n",
    "\n",
    "yield_90_98 = sum(values_90_98)\n",
    "print yield_90_98\n",
    "\n",
    "yield_95_99 = sum(values_95_99)\n",
    "print yield_95_99"
   ]
  },
  {
   "cell_type": "code",
   "execution_count": null,
   "metadata": {},
   "outputs": [],
   "source": []
  }
 ],
 "metadata": {
  "kernelspec": {
   "display_name": "Python 3",
   "language": "python",
   "name": "python3"
  },
  "language_info": {
   "codemirror_mode": {
    "name": "ipython",
    "version": 3
   },
   "file_extension": ".py",
   "mimetype": "text/x-python",
   "name": "python",
   "nbconvert_exporter": "python",
   "pygments_lexer": "ipython3",
   "version": "3.6.5"
  }
 },
 "nbformat": 4,
 "nbformat_minor": 2
}
