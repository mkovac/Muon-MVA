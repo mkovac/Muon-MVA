{
 "cells": [
  {
   "cell_type": "code",
   "execution_count": null,
   "metadata": {},
   "outputs": [],
   "source": [
    "import uproot\n",
    "import pandas\n",
    "import numpy as np\n",
    "from sklearn import metrics\n",
    "import matplotlib.pyplot as plt\n",
    "plt.rcParams.update({'font.size': 24})"
   ]
  },
  {
   "cell_type": "code",
   "execution_count": null,
   "metadata": {},
   "outputs": [],
   "source": [
    "root_file = '/eos/user/m/mkovac/Data/Muon_WP_tuning/ggH/ZZ4lAnalysis.root'\n",
    "\n",
    "tree = uproot.open(root_file)[\"ZZTree/candTree\"]"
   ]
  },
  {
   "cell_type": "code",
   "execution_count": null,
   "metadata": {},
   "outputs": [],
   "source": [
    "df = tree.pandas.df(entrystop=None, flatten=False)"
   ]
  },
  {
   "cell_type": "code",
   "execution_count": null,
   "metadata": {},
   "outputs": [],
   "source": [
    "hCounters = uproot.open(root_file)[\"ZZTree/Counters\"]\n",
    "\n",
    "gen_sum_weights = hCounters[40]"
   ]
  },
  {
   "cell_type": "code",
   "execution_count": null,
   "metadata": {},
   "outputs": [],
   "source": [
    "df = df.query('ZZsel >= 90')\n",
    "\n",
    "num_of_leptons = df['LepEta'].apply(lambda x: len(x))\n",
    "df['num_of_leptons'] = num_of_leptons\n",
    "\n",
    "df = df.query('num_of_leptons == 4')\n",
    "df = df.query('ZZMass >= 118 and ZZMass <= 130')"
   ]
  },
  {
   "cell_type": "code",
   "execution_count": null,
   "metadata": {},
   "outputs": [],
   "source": [
    "# abs(df[\"LepPt\"])\n",
    "\n",
    "# B_5 = (df['LepPt'][5] < 10) & (abs(df['LepEta'][5]) < 1.2)\n",
    "# B_5\n",
    "# condlist_75_95   = [df['LepPt'][5] <  10 && abs(df['LepEta'][5]) < 1.2]\n",
    "    \n",
    "# choicelist_75_95 = [df['LepBDT'][i] > 1.73446324467659,\n",
    "#                         df['LepBDT'][i] > 0.6136413216590881,\n",
    "#                         df['LepBDT'][i] > 2.441141128540039,\n",
    "#                         df['LepBDT'][i] > 1.5527301788330146\n",
    "#                        ]\n",
    "\n",
    "# df['LepPt'][0]\n",
    "\n",
    "# for i in df.index:\n",
    "#     print (i)"
   ]
  },
  {
   "cell_type": "markdown",
   "metadata": {},
   "source": [
    "## 4mu only"
   ]
  },
  {
   "cell_type": "code",
   "execution_count": 47,
   "metadata": {},
   "outputs": [],
   "source": [
    "df = df.query('Z1Flav == -169 and Z2Flav == -169')\n",
    "\n",
    "isBDT_75_95 = []\n",
    "isBDT_80_96 = []\n",
    "isBDT_85_97 = []\n",
    "isBDT_90_98 = []\n",
    "isBDT_95_99 = []\n",
    "\n",
    "\n",
    "for i in df.index:\n",
    "    condlist_75_95   = [(df['LepPt'][i] <  10) & (abs(df['LepEta'][i]) < 1.2),\n",
    "                        (df['LepPt'][i] >= 10) & (abs(df['LepEta'][i]) < 1.2),\n",
    "                        (df['LepPt'][i] <  10) & (abs(df['LepEta'][i]) >= 1.2),\n",
    "                        (df['LepPt'][i] >= 10) & (abs(df['LepEta'][i]) >= 1.2)\n",
    "                       ]\n",
    "    \n",
    "    choicelist_75_95 = [df['LepBDT'][i] > 1.73446324467659,\n",
    "                        df['LepBDT'][i] > 0.6136413216590881,\n",
    "                        df['LepBDT'][i] > 2.441141128540039,\n",
    "                        df['LepBDT'][i] > 1.5527301788330146\n",
    "                       ]\n",
    "    \n",
    "    temp_75_95 = (np.select(condlist_75_95, choicelist_75_95))\n",
    "    isBDT_75_95_temp = temp_75_95.all()\n",
    "    isBDT_75_95.append(isBDT_75_95_temp)\n",
    "    \n",
    "    \n",
    "    \n",
    "    condlist_80_96   = [(df['LepPt'][i] <  10) & (abs(df['LepEta'][i]) < 1.2),\n",
    "                        (df['LepPt'][i] >= 10) & (abs(df['LepEta'][i]) < 1.2),\n",
    "                        (df['LepPt'][i] <  10) & (abs(df['LepEta'][i]) >= 1.2),\n",
    "                        (df['LepPt'][i] >= 10) & (abs(df['LepEta'][i]) >= 1.2)\n",
    "                       ]\n",
    "    \n",
    "    choicelist_80_96 = [df['LepBDT'][i] > 1.4778424501419063,\n",
    "                        df['LepBDT'][i] > 0.16950652003289526,\n",
    "                        df['LepBDT'][i] > 2.2214415073394767,\n",
    "                        df['LepBDT'][i] > 1.2279906272888184\n",
    "                       ]\n",
    "    \n",
    "    temp_80_96 = (np.select(condlist_80_96, choicelist_80_96))\n",
    "    isBDT_80_96_temp = temp_80_96.all()\n",
    "    isBDT_80_96.append(isBDT_80_96_temp)\n",
    "    \n",
    "    \n",
    "    \n",
    "    condlist_85_97   = [(df['LepPt'][i] <  10) & (abs(df['LepEta'][i]) < 1.2),\n",
    "                        (df['LepPt'][i] >= 10) & (abs(df['LepEta'][i]) < 1.2),\n",
    "                        (df['LepPt'][i] <  10) & (abs(df['LepEta'][i]) >= 1.2),\n",
    "                        (df['LepPt'][i] >= 10) & (abs(df['LepEta'][i]) >= 1.2)\n",
    "                       ]\n",
    "    \n",
    "    choicelist_85_97 = [df['LepBDT'][i] > 1.153916329145432,\n",
    "                        df['LepBDT'][i] > -0.3525409996509552,\n",
    "                        df['LepBDT'][i] > 1.94111499786377,\n",
    "                        df['LepBDT'][i] > 0.738214094638828\n",
    "                       ]\n",
    "    \n",
    "    temp_85_97 = (np.select(condlist_85_97, choicelist_85_97))\n",
    "    isBDT_85_97_temp = temp_85_97.all()\n",
    "    isBDT_85_97.append(isBDT_85_97_temp)\n",
    "    \n",
    "    \n",
    "    \n",
    "    condlist_90_98   = [(df['LepPt'][i] <  10) & (abs(df['LepEta'][i]) < 1.2),\n",
    "                        (df['LepPt'][i] >= 10) & (abs(df['LepEta'][i]) < 1.2),\n",
    "                        (df['LepPt'][i] <  10) & (abs(df['LepEta'][i]) >= 1.2),\n",
    "                        (df['LepPt'][i] >= 10) & (abs(df['LepEta'][i]) >= 1.2)\n",
    "                       ]\n",
    "    \n",
    "    choicelist_90_98 = [df['LepBDT'][i] > 0.6300530433654785,\n",
    "                        df['LepBDT'][i] > -0.9337482452392578,\n",
    "                        df['LepBDT'][i] > 1.4816066980361935,\n",
    "                        df['LepBDT'][i] > -0.08921787619590255\n",
    "                       ]\n",
    "    \n",
    "    temp_90_98 = (np.select(condlist_90_98, choicelist_90_98))\n",
    "    isBDT_90_98_temp = temp_90_98.all()\n",
    "    isBDT_90_98.append(isBDT_90_98_temp)\n",
    "    \n",
    "    \n",
    "    \n",
    "    condlist_95_99   = [(df['LepPt'][i] <  10) & (abs(df['LepEta'][i]) < 1.2),\n",
    "                        (df['LepPt'][i] >= 10) & (abs(df['LepEta'][i]) < 1.2),\n",
    "                        (df['LepPt'][i] <  10) & (abs(df['LepEta'][i]) >= 1.2),\n",
    "                        (df['LepPt'][i] >= 10) & (abs(df['LepEta'][i]) >= 1.2)\n",
    "                       ]\n",
    "    \n",
    "    choicelist_95_99 = [df['LepBDT'][i] > -0.4623236134648287,\n",
    "                        df['LepBDT'][i] > -2.0780179500579834,\n",
    "                        df['LepBDT'][i] > 0.5210796594619753,\n",
    "                        df['LepBDT'][i] > -1.6563756227493285\n",
    "                       ]    \n",
    "    \n",
    "    temp_95_99 = (np.select(condlist_95_99, choicelist_95_99))\n",
    "    isBDT_95_99_temp = temp_95_99.all()\n",
    "    isBDT_95_99.append(isBDT_95_99_temp)\n",
    "    \n",
    "\n",
    "df['isBDT_75_95'] = isBDT_75_95\n",
    "df['isBDT_80_96'] = isBDT_80_96\n",
    "df['isBDT_85_97'] = isBDT_85_97\n",
    "df['isBDT_90_98'] = isBDT_90_98\n",
    "df['isBDT_95_99'] = isBDT_95_99\n",
    "\n",
    "df_75_95 = df.query('isBDT_75_95 == True')\n",
    "df_80_96 = df.query('isBDT_80_96 == True')\n",
    "df_85_97 = df.query('isBDT_85_97 == True')\n",
    "df_90_98 = df.query('isBDT_90_98 == True')\n",
    "df_95_99 = df.query('isBDT_95_99 == True')"
   ]
  },
  {
   "cell_type": "code",
   "execution_count": 48,
   "metadata": {},
   "outputs": [],
   "source": [
    "k_factor = 1\n",
    "\n",
    "event_weight = (35.9*1000*df['xsec']*k_factor*df['overallEventWeight'])/gen_sum_weights\n",
    "event_weight = event_weight*df['ggH_NNLOPS_weight']\n",
    "\n",
    "event_weight_75_95 = (35.9*1000*df_75_95['xsec']*k_factor*df_75_95['overallEventWeight'])/gen_sum_weights\n",
    "event_weight_75_95 = event_weight_75_95*df_75_95['ggH_NNLOPS_weight']\n",
    "\n",
    "event_weight_80_96 = (35.9*1000*df_80_96['xsec']*k_factor*df_80_96['overallEventWeight'])/gen_sum_weights\n",
    "event_weight_80_96 = event_weight_80_96*df_80_96['ggH_NNLOPS_weight']\n",
    "\n",
    "event_weight_85_97 = (35.9*1000*df_85_97['xsec']*k_factor*df_85_97['overallEventWeight'])/gen_sum_weights\n",
    "event_weight_85_97 = event_weight_85_97*df_85_97['ggH_NNLOPS_weight']\n",
    "\n",
    "event_weight_90_98 = (35.9*1000*df_90_98['xsec']*k_factor*df_90_98['overallEventWeight'])/gen_sum_weights\n",
    "event_weight_90_98 = event_weight_90_98*df_90_98['ggH_NNLOPS_weight']\n",
    "\n",
    "event_weight_95_99 = (35.9*1000*df_95_99['xsec']*k_factor*df_95_99['overallEventWeight'])/gen_sum_weights\n",
    "event_weight_95_99 = event_weight_95_99*df_95_99['ggH_NNLOPS_weight']"
   ]
  },
  {
   "cell_type": "code",
   "execution_count": 52,
   "metadata": {},
   "outputs": [
    {
     "data": {
      "text/plain": [
       "<matplotlib.legend.Legend at 0x7fe7ce9e8c18>"
      ]
     },
     "execution_count": 52,
     "metadata": {},
     "output_type": "execute_result"
    },
    {
     "data": {
      "image/png": "[encoded data removed]",
      "text/plain": [
       "<Figure size 1080x720 with 1 Axes>"
      ]
     },
     "metadata": {},
     "output_type": "display_data"
    }
   ],
   "source": [
    "plt.figure(figsize = (15,10))\n",
    "# plt.yscale('log')\n",
    "values, bins, _       = plt.hist(df['ZZMass'], bins=50, histtype='step', linewidth=2, weights=event_weight      , range=[70,170], label='ggH')\n",
    "values_75_95, bins, _ = plt.hist(df_75_95['ZZMass'], bins=50, histtype='step', linewidth=2, weights=event_weight_75_95, range=[70,170], label='ggH')\n",
    "values_80_96, bins, _ = plt.hist(df_80_96['ZZMass'], bins=50, histtype='step', linewidth=2, weights=event_weight_80_96, range=[70,170], label='ggH')\n",
    "values_85_97, bins, _ = plt.hist(df_85_97['ZZMass'], bins=50, histtype='step', linewidth=2, weights=event_weight_85_97, range=[70,170], label='ggH')\n",
    "values_90_98, bins, _ = plt.hist(df_90_98['ZZMass'], bins=50, histtype='step', linewidth=2, weights=event_weight_90_98, range=[70,170], label='ggH')\n",
    "values_95_99, bins, _ = plt.hist(df_95_99['ZZMass'], bins=50, histtype='step', linewidth=2, weights=event_weight_95_99, range=[70,170], label='ggH')\n",
    "\n",
    "plt.title('')\n",
    "plt.ylabel('# of entries')\n",
    "plt.xlabel('M(4mu)')\n",
    "plt.legend()\n",
    "# values"
   ]
  },
  {
   "cell_type": "code",
   "execution_count": 51,
   "metadata": {},
   "outputs": [
    {
     "name": "stdout",
     "output_type": "stream",
     "text": [
      "18.02449856629469\n",
      "3.43222026899457\n",
      "16.32849823473092\n"
     ]
    }
   ],
   "source": [
    "yield_99_99 = sum(values)\n",
    "print (yield_99_99)\n",
    "\n",
    "yield_75_95 = sum(values_75_95)\n",
    "print (yield_75_95)\n",
    "\n",
    "yield_80_96 = sum(values_80_96)\n",
    "print (yield_80_96)\n",
    "\n",
    "yield_85_97 = sum(values_85_97)\n",
    "print (yield_85_97)\n",
    "\n",
    "yield_90_98 = sum(values_90_98)\n",
    "print (yield_90_98)\n",
    "\n",
    "yield_95_99 = sum(values_95_99)\n",
    "print (yield_95_99)"
   ]
  },
  {
   "cell_type": "code",
   "execution_count": null,
   "metadata": {},
   "outputs": [],
   "source": []
  }
 ],
 "metadata": {
  "kernelspec": {
   "display_name": "Python 3",
   "language": "python",
   "name": "python3"
  },
  "language_info": {
   "codemirror_mode": {
    "name": "ipython",
    "version": 3
   },
   "file_extension": ".py",
   "mimetype": "text/x-python",
   "name": "python",
   "nbconvert_exporter": "python",
   "pygments_lexer": "ipython3",
   "version": "3.6.5"
  }
 },
 "nbformat": 4,
 "nbformat_minor": 2
}
