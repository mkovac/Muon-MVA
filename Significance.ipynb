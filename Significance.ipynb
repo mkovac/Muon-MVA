{
 "cells": [
  {
   "cell_type": "code",
   "execution_count": 1,
   "metadata": {},
   "outputs": [
    {
     "name": "stdout",
     "output_type": "stream",
     "text": [
      "Welcome to JupyROOT 6.18/00\n"
     ]
    }
   ],
   "source": [
    "import ROOT\n",
    "#import matplotlib.pyplot as plt\n",
    "#import numpy as np\n",
    "from math import sqrt, log"
   ]
  },
  {
   "cell_type": "markdown",
   "metadata": {},
   "source": [
    "#### Define the Asimov Significance \n",
    "See the complete reference [G. Cowan paper](https://www.pp.rhul.ac.uk/~cowan/stat/notes/medsigNote.pdf)"
   ]
  },
  {
   "cell_type": "code",
   "execution_count": 3,
   "metadata": {},
   "outputs": [],
   "source": [
    "def ams(s, b, sigma_b=None) :\n",
    "    return sqrt(amssq(s,b,sigma_b))\n",
    "\n",
    "def amssq(s, b, sigma_b=None) :\n",
    "    s = float(s)\n",
    "    b = float(b)\n",
    "    if sigma_b: \n",
    "        sigma_b = float(sigma_b)        \n",
    "    \n",
    "    if s == 0:\n",
    "        return float(0)\n",
    "    \n",
    "    if sigma_b is None or sigma_b == 0:\n",
    "        return 2 * ( (s+b) * log(1+s/b) - s )\n",
    "    else:\n",
    "        sb2 = sigma_b*sigma_b\n",
    "        b2 = b*b\n",
    "        splub = s+b\n",
    "        logarg1 = splub*(b+sb2) / ( b2 + splub*sb2 )\n",
    "        logarg2 = 1 + sb2*s / ( b*(b+sb2) )\n",
    "        log1 = log(logarg1)\n",
    "        log2 = log(logarg2)\n",
    "        return 2 * ( splub * log1 - (b2/sb2) * log2 )"
   ]
  },
  {
   "cell_type": "markdown",
   "metadata": {},
   "source": [
    "#### Yields \n",
    "Updated yields of Z+X from Elisa, see email (new muon ID traning and WPs) <br>\n",
    "Updated yields of ggH from Marko, see email (new muon ID traning and WPs) <br>\n",
    "Updated yields of qqZZ from Marko, see email (new muon ID traning and WPs) <br>"
   ]
  },
  {
   "cell_type": "code",
   "execution_count": 4,
   "metadata": {},
   "outputs": [],
   "source": [
    "yields_ggH = [3.43, 5.58, 8.32, 11.74, 16.33]\n",
    "yields_qqZZ = [1.19, 1.99, 3.19, 5.16, 8.11]\n",
    "yields_ZX = [0.042537178, 0.095374479, 0.242855215, 0.688241718, 2.577779141]"
   ]
  },
  {
   "cell_type": "code",
   "execution_count": 5,
   "metadata": {},
   "outputs": [
    {
     "data": {
      "image/png": "[encoded data removed]",
      "text/plain": [
       "<IPython.core.display.Image object>"
      ]
     },
     "metadata": {},
     "output_type": "display_data"
    }
   ],
   "source": [
    "h_ams = ROOT.TH1F(\"\",\"\",5,0,5)\n",
    "h_ams.SetMarkerSize(2)\n",
    "h_ams.SetMarkerStyle(20)\n",
    "for i in range(5) :\n",
    "    h_ams.Fill(i,ams(yields_ggH[i],yields_ZX[i]+yields_qqZZ[i]))\n",
    "h_ams.GetXaxis().SetBinLabel(1,\"BDT_75_95\")\n",
    "h_ams.GetXaxis().SetBinLabel(2,\"BDT_80_96\")\n",
    "h_ams.GetXaxis().SetBinLabel(3,\"BDT_85_97\")\n",
    "h_ams.GetXaxis().SetBinLabel(4,\"BDT_90_98\")\n",
    "h_ams.GetXaxis().SetBinLabel(5,\"BDT_95_99\")\n",
    "c = ROOT.TCanvas(\"\",\"\",800,600)\n",
    "h_ams.GetYaxis().SetTitle(\"Asimov Significance\")\n",
    "h_ams.GetXaxis().SetTitle(\"Muon ID WP\")\n",
    "h_ams.SetStats(0)\n",
    "h_ams.Draw(\"\")\n",
    "c.Draw()    "
   ]
  }
 ],
 "metadata": {
  "kernelspec": {
   "display_name": "Python 3",
   "language": "python",
   "name": "python3"
  },
  "language_info": {
   "codemirror_mode": {
    "name": "ipython",
    "version": 3
   },
   "file_extension": ".py",
   "mimetype": "text/x-python",
   "name": "python",
   "nbconvert_exporter": "python",
   "pygments_lexer": "ipython3",
   "version": "3.6.5"
  }
 },
 "nbformat": 4,
 "nbformat_minor": 2
}
