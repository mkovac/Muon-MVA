{
 "cells": [
  {
   "cell_type": "code",
   "execution_count": 22,
   "metadata": {},
   "outputs": [],
   "source": [
    "import uproot\n",
    "import pandas\n",
    "import numpy as np\n",
    "from sklearn import metrics\n",
    "import matplotlib.pyplot as plt\n",
    "plt.rcParams.update({'font.size': 24})"
   ]
  },
  {
   "cell_type": "code",
   "execution_count": 2,
   "metadata": {},
   "outputs": [],
   "source": [
    "root_file_ggH = '/eos/user/t/tsculac/BigStuff/LegacyProduction_1/MuonWPOptimization/ggH125/ZZ4lAnalysis.root'\n",
    "root_file_qqZZ = '/eos/user/t/tsculac/BigStuff/LegacyProduction_1/MuonWPOptimization/ZZTo4l/ZZ4lAnalysis.root'\n",
    "# root_file_data = '/eos/user/m/mkovac/Data/Muons/DY_2017_8_6_2019/train.root'\n",
    "\n",
    "tree_ggH = uproot.open(root_file_ggH)[\"ZZTree/candTree\"]\n",
    "tree_qqZZ = uproot.open(root_file_qqZZ)[\"ZZTree/candTree\"]"
   ]
  },
  {
   "cell_type": "code",
   "execution_count": 3,
   "metadata": {},
   "outputs": [],
   "source": [
    "df_ggH = tree_ggH.pandas.df(entrystop=None, flatten=False)"
   ]
  },
  {
   "cell_type": "code",
   "execution_count": 4,
   "metadata": {},
   "outputs": [],
   "source": [
    "df_qqZZ = tree_qqZZ.pandas.df(entrystop=500, flatten=False)"
   ]
  },
  {
   "cell_type": "code",
   "execution_count": 25,
   "metadata": {},
   "outputs": [
    {
     "name": "stdout",
     "output_type": "stream",
     "text": [
      "743577.0\n",
      "743847.75\n"
     ]
    }
   ],
   "source": [
    "hCounters = uproot.open(root_file_ggH)[\"ZZTree/Counters\"]\n",
    "# hCounters.show()\n",
    "\n",
    "n_gen_events    = hCounters[1]\n",
    "gen_sum_weights = hCounters[40]\n",
    "\n",
    "print n_gen_events\n",
    "print gen_sum_weights"
   ]
  },
  {
   "cell_type": "code",
   "execution_count": 29,
   "metadata": {},
   "outputs": [],
   "source": [
    "df_ggH = df_ggH.query('ZZsel >= 90')\n",
    "# print df_ggH['ZZsel']\n",
    "\n",
    "num_of_leptons = df_ggH['LepEta'].apply(lambda x: len(x))\n",
    "df_ggH['num_of_leptons'] = num_of_leptons\n",
    "\n",
    "df_ggH = df_ggH.query('num_of_leptons == 4')\n",
    "df_ggH = df_ggH.query('ZZMass >= 118 and ZZMass <= 130')"
   ]
  },
  {
   "cell_type": "markdown",
   "metadata": {},
   "source": [
    "## 4mu only"
   ]
  },
  {
   "cell_type": "code",
   "execution_count": 18,
   "metadata": {},
   "outputs": [],
   "source": [
    "df_ggH = df_ggH.query('Z1Flav == -169 and Z2Flav == -169')\n",
    "\n",
    "# print df_ggH['LepPt']\n",
    "# print df_ggH['LepBDT']\n",
    "\n",
    "isBDT = []\n",
    "\n",
    "for i in df_ggH.index:\n",
    "    temp = (np.select(condlist=[df_ggH['LepPt'][i] <= 10, df_ggH['LepPt'][i] > 10], \n",
    "                      choicelist=[df_ggH['LepBDT'][i] > 2.108, df_ggH['LepBDT'][i] > 1.336]))\n",
    "    isBDT_temp = temp.all()\n",
    "    isBDT.append(isBDT_temp)\n",
    "\n",
    "df_ggH['isBDT'] = isBDT\n",
    "\n",
    "# is_BDT = df_ggH['LepBDT'].apply(lambda x: x > 2)\n",
    "\n",
    "# for i in df_ggH.index:\n",
    "#     print i\n",
    "#     is_BDT[i] = is_BDT[i].all()\n",
    "\n",
    "df_ggH = df_ggH.query('isBDT == True')"
   ]
  },
  {
   "cell_type": "code",
   "execution_count": 34,
   "metadata": {},
   "outputs": [],
   "source": [
    "event_weight=(35.9*1000*df_ggH['xsec']*df_ggH['overallEventWeight'])/gen_sum_weights\n",
    "# print event_weight\n",
    "event_weight=event_weight*df_ggH['ggH_NNLOPS_weight']\n",
    "# print event_weight"
   ]
  },
  {
   "cell_type": "code",
   "execution_count": 41,
   "metadata": {},
   "outputs": [
    {
     "data": {
      "text/plain": [
       "<matplotlib.legend.Legend at 0x7fc082fe9c90>"
      ]
     },
     "execution_count": 41,
     "metadata": {},
     "output_type": "execute_result"
    },
    {
     "data": {
      "image/png": "[encoded data removed]",
      "text/plain": [
       "<Figure size 1080x720 with 1 Axes>"
      ]
     },
     "metadata": {},
     "output_type": "display_data"
    }
   ],
   "source": [
    "plt.figure(figsize = (15,10))\n",
    "# plt.yscale('log')\n",
    "values, bins, _ = plt.hist(df_ggH['ZZMass'], bins=50, histtype='step', linewidth=2, weights=event_weight, range=[70,170], label='ggH')\n",
    "# _, bins, _ = plt.hist(df_ggH['ZZMass'], bins=200, histtype='step', linewidth=2, weights=event_weight, label='ggH')\n",
    "# _ = plt.hist(df_qqZZ['ZZMass'], bins=bins, histtype='step', linewidth=2, density=1, label='qqZZ')\n",
    "plt.title('')\n",
    "plt.ylabel('# of entries')\n",
    "plt.xlabel('M(4mu)')\n",
    "plt.legend()\n",
    "# values"
   ]
  },
  {
   "cell_type": "code",
   "execution_count": 36,
   "metadata": {},
   "outputs": [
    {
     "name": "stdout",
     "output_type": "stream",
     "text": [
      "17.091046364363375\n"
     ]
    }
   ],
   "source": [
    "area = sum(values)\n",
    "print area"
   ]
  },
  {
   "cell_type": "code",
   "execution_count": null,
   "metadata": {},
   "outputs": [],
   "source": []
  },
  {
   "cell_type": "code",
   "execution_count": null,
   "metadata": {},
   "outputs": [],
   "source": []
  }
 ],
 "metadata": {
  "kernelspec": {
   "display_name": "Python 2",
   "language": "python",
   "name": "python2"
  },
  "language_info": {
   "codemirror_mode": {
    "name": "ipython",
    "version": 2
   },
   "file_extension": ".py",
   "mimetype": "text/x-python",
   "name": "python",
   "nbconvert_exporter": "python",
   "pygments_lexer": "ipython2",
   "version": "2.7.15"
  }
 },
 "nbformat": 4,
 "nbformat_minor": 2
}
